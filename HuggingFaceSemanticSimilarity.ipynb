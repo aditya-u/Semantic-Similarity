{
  "nbformat": 4,
  "nbformat_minor": 0,
  "metadata": {
    "colab": {
      "name": "HuggingFaceSemanticSimilarity.ipynb",
      "provenance": [],
      "collapsed_sections": []
    },
    "kernelspec": {
      "name": "python3",
      "display_name": "Python 3"
    },
    "language_info": {
      "name": "python"
    },
    "accelerator": "GPU"
  },
  "cells": [
    {
      "cell_type": "code",
      "execution_count": null,
      "metadata": {
        "colab": {
          "base_uri": "https://localhost:8080/"
        },
        "id": "lBHY8JQfwnvW",
        "outputId": "00d2fd6b-1de1-40fd-8aef-059910ab1bf8"
      },
      "outputs": [
        {
          "output_type": "stream",
          "name": "stdout",
          "text": [
            "[nltk_data] Downloading package stopwords to /root/nltk_data...\n",
            "[nltk_data]   Package stopwords is already up-to-date!\n"
          ]
        }
      ],
      "source": [
        "import os\n",
        "import pandas as pd\n",
        "import numpy as np\n",
        "from sklearn.metrics.pairwise import cosine_similarity\n",
        "from sklearn.metrics.pairwise import euclidean_distances\n",
        "from nltk.corpus import stopwords\n",
        "import nltk\n",
        "nltk.download('stopwords')\n",
        "import re\n",
        "import nltk\n",
        "stop_words_l=stopwords.words('english')"
      ]
    },
    {
      "cell_type": "code",
      "source": [
        "from google.colab import drive\n",
        "drive.mount('/content/drive')"
      ],
      "metadata": {
        "colab": {
          "base_uri": "https://localhost:8080/"
        },
        "id": "GsSVjIA6wpa0",
        "outputId": "5cf7ed9a-5558-4cc0-d538-449f6d68d5cb"
      },
      "execution_count": null,
      "outputs": [
        {
          "output_type": "stream",
          "name": "stdout",
          "text": [
            "Mounted at /content/drive\n"
          ]
        }
      ]
    },
    {
      "cell_type": "code",
      "source": [
        "!pip install -U sentence-transformers"
      ],
      "metadata": {
        "colab": {
          "base_uri": "https://localhost:8080/"
        },
        "id": "Sd0hV97Twqqx",
        "outputId": "419ffcba-858c-4846-d2c8-f7b427e94603"
      },
      "execution_count": null,
      "outputs": [
        {
          "output_type": "stream",
          "name": "stdout",
          "text": [
            "Collecting sentence-transformers\n",
            "  Downloading sentence-transformers-2.2.0.tar.gz (79 kB)\n",
            "\u001b[K     |████████████████████████████████| 79 kB 8.2 MB/s \n",
            "\u001b[?25hCollecting transformers<5.0.0,>=4.6.0\n",
            "  Downloading transformers-4.18.0-py3-none-any.whl (4.0 MB)\n",
            "\u001b[K     |████████████████████████████████| 4.0 MB 62.6 MB/s \n",
            "\u001b[?25hRequirement already satisfied: tqdm in /usr/local/lib/python3.7/dist-packages (from sentence-transformers) (4.64.0)\n",
            "Requirement already satisfied: torch>=1.6.0 in /usr/local/lib/python3.7/dist-packages (from sentence-transformers) (1.11.0+cu113)\n",
            "Requirement already satisfied: torchvision in /usr/local/lib/python3.7/dist-packages (from sentence-transformers) (0.12.0+cu113)\n",
            "Requirement already satisfied: numpy in /usr/local/lib/python3.7/dist-packages (from sentence-transformers) (1.21.6)\n",
            "Requirement already satisfied: scikit-learn in /usr/local/lib/python3.7/dist-packages (from sentence-transformers) (1.0.2)\n",
            "Requirement already satisfied: scipy in /usr/local/lib/python3.7/dist-packages (from sentence-transformers) (1.4.1)\n",
            "Requirement already satisfied: nltk in /usr/local/lib/python3.7/dist-packages (from sentence-transformers) (3.2.5)\n",
            "Collecting sentencepiece\n",
            "  Downloading sentencepiece-0.1.96-cp37-cp37m-manylinux_2_17_x86_64.manylinux2014_x86_64.whl (1.2 MB)\n",
            "\u001b[K     |████████████████████████████████| 1.2 MB 50.5 MB/s \n",
            "\u001b[?25hCollecting huggingface-hub\n",
            "  Downloading huggingface_hub-0.5.1-py3-none-any.whl (77 kB)\n",
            "\u001b[K     |████████████████████████████████| 77 kB 3.7 MB/s \n",
            "\u001b[?25hRequirement already satisfied: typing-extensions in /usr/local/lib/python3.7/dist-packages (from torch>=1.6.0->sentence-transformers) (4.2.0)\n",
            "Collecting sacremoses\n",
            "  Downloading sacremoses-0.0.53.tar.gz (880 kB)\n",
            "\u001b[K     |████████████████████████████████| 880 kB 57.3 MB/s \n",
            "\u001b[?25hCollecting pyyaml>=5.1\n",
            "  Downloading PyYAML-6.0-cp37-cp37m-manylinux_2_5_x86_64.manylinux1_x86_64.manylinux_2_12_x86_64.manylinux2010_x86_64.whl (596 kB)\n",
            "\u001b[K     |████████████████████████████████| 596 kB 64.1 MB/s \n",
            "\u001b[?25hRequirement already satisfied: importlib-metadata in /usr/local/lib/python3.7/dist-packages (from transformers<5.0.0,>=4.6.0->sentence-transformers) (4.11.3)\n",
            "Requirement already satisfied: filelock in /usr/local/lib/python3.7/dist-packages (from transformers<5.0.0,>=4.6.0->sentence-transformers) (3.6.0)\n",
            "Requirement already satisfied: packaging>=20.0 in /usr/local/lib/python3.7/dist-packages (from transformers<5.0.0,>=4.6.0->sentence-transformers) (21.3)\n",
            "Collecting tokenizers!=0.11.3,<0.13,>=0.11.1\n",
            "  Downloading tokenizers-0.12.1-cp37-cp37m-manylinux_2_12_x86_64.manylinux2010_x86_64.whl (6.6 MB)\n",
            "\u001b[K     |████████████████████████████████| 6.6 MB 58.1 MB/s \n",
            "\u001b[?25hRequirement already satisfied: regex!=2019.12.17 in /usr/local/lib/python3.7/dist-packages (from transformers<5.0.0,>=4.6.0->sentence-transformers) (2019.12.20)\n",
            "Requirement already satisfied: requests in /usr/local/lib/python3.7/dist-packages (from transformers<5.0.0,>=4.6.0->sentence-transformers) (2.23.0)\n",
            "Requirement already satisfied: pyparsing!=3.0.5,>=2.0.2 in /usr/local/lib/python3.7/dist-packages (from packaging>=20.0->transformers<5.0.0,>=4.6.0->sentence-transformers) (3.0.8)\n",
            "Requirement already satisfied: zipp>=0.5 in /usr/local/lib/python3.7/dist-packages (from importlib-metadata->transformers<5.0.0,>=4.6.0->sentence-transformers) (3.8.0)\n",
            "Requirement already satisfied: six in /usr/local/lib/python3.7/dist-packages (from nltk->sentence-transformers) (1.15.0)\n",
            "Requirement already satisfied: idna<3,>=2.5 in /usr/local/lib/python3.7/dist-packages (from requests->transformers<5.0.0,>=4.6.0->sentence-transformers) (2.10)\n",
            "Requirement already satisfied: certifi>=2017.4.17 in /usr/local/lib/python3.7/dist-packages (from requests->transformers<5.0.0,>=4.6.0->sentence-transformers) (2021.10.8)\n",
            "Requirement already satisfied: chardet<4,>=3.0.2 in /usr/local/lib/python3.7/dist-packages (from requests->transformers<5.0.0,>=4.6.0->sentence-transformers) (3.0.4)\n",
            "Requirement already satisfied: urllib3!=1.25.0,!=1.25.1,<1.26,>=1.21.1 in /usr/local/lib/python3.7/dist-packages (from requests->transformers<5.0.0,>=4.6.0->sentence-transformers) (1.24.3)\n",
            "Requirement already satisfied: click in /usr/local/lib/python3.7/dist-packages (from sacremoses->transformers<5.0.0,>=4.6.0->sentence-transformers) (7.1.2)\n",
            "Requirement already satisfied: joblib in /usr/local/lib/python3.7/dist-packages (from sacremoses->transformers<5.0.0,>=4.6.0->sentence-transformers) (1.1.0)\n",
            "Requirement already satisfied: threadpoolctl>=2.0.0 in /usr/local/lib/python3.7/dist-packages (from scikit-learn->sentence-transformers) (3.1.0)\n",
            "Requirement already satisfied: pillow!=8.3.*,>=5.3.0 in /usr/local/lib/python3.7/dist-packages (from torchvision->sentence-transformers) (7.1.2)\n",
            "Building wheels for collected packages: sentence-transformers, sacremoses\n",
            "  Building wheel for sentence-transformers (setup.py) ... \u001b[?25l\u001b[?25hdone\n",
            "  Created wheel for sentence-transformers: filename=sentence_transformers-2.2.0-py3-none-any.whl size=120747 sha256=0ce23dd3cf075ba1fb491525d6424dba7f090a2f00e0588487cb41c32ae48e1b\n",
            "  Stored in directory: /root/.cache/pip/wheels/83/c0/df/b6873ab7aac3f2465aa9144b6b4c41c4391cfecc027c8b07e7\n",
            "  Building wheel for sacremoses (setup.py) ... \u001b[?25l\u001b[?25hdone\n",
            "  Created wheel for sacremoses: filename=sacremoses-0.0.53-py3-none-any.whl size=895260 sha256=d919e5ba3acc70495be48cb489e2c423a5c5b86f64ab78329cbc9f33739fd876\n",
            "  Stored in directory: /root/.cache/pip/wheels/87/39/dd/a83eeef36d0bf98e7a4d1933a4ad2d660295a40613079bafc9\n",
            "Successfully built sentence-transformers sacremoses\n",
            "Installing collected packages: pyyaml, tokenizers, sacremoses, huggingface-hub, transformers, sentencepiece, sentence-transformers\n",
            "  Attempting uninstall: pyyaml\n",
            "    Found existing installation: PyYAML 3.13\n",
            "    Uninstalling PyYAML-3.13:\n",
            "      Successfully uninstalled PyYAML-3.13\n",
            "Successfully installed huggingface-hub-0.5.1 pyyaml-6.0 sacremoses-0.0.53 sentence-transformers-2.2.0 sentencepiece-0.1.96 tokenizers-0.12.1 transformers-4.18.0\n"
          ]
        }
      ]
    },
    {
      "cell_type": "code",
      "source": [
        "from sentence_transformers import SentenceTransformer, util\n",
        "from tqdm import tqdm\n",
        "import timeit"
      ],
      "metadata": {
        "id": "Ky8XZC-1wrz8"
      },
      "execution_count": null,
      "outputs": []
    },
    {
      "cell_type": "code",
      "source": [
        "models = ['stsb-roberta-large',\n",
        "'stsb-roberta-base',\n",
        "'stsb-bert-large',\n",
        "'stsb-distilbert-base',\n",
        "'stsb-bert-base',\n",
        "'paraphrase-xlm-r-multilingual-v1',\n",
        "'paraphrase-distilroberta-base-v1',\n",
        "'nli-bert-large',\n",
        "'nli-distilbert-base',\n",
        "'nli-roberta-large',\n",
        "'nli-bert-large-max-pooling',\n",
        "'nli-bert-large-cls-pooling',\n",
        "'nli-distilbert-base-max-pooling',\n",
        "'nli-roberta-base',\n",
        "'nli-bert-base-max-pooling',\n",
        "'nli-bert-base',\n",
        "'nli-bert-base-cls-pooling'\n",
        "]\n",
        "scores = []\n",
        "compute_times = []\n",
        "labels = []\n",
        "order = []"
      ],
      "metadata": {
        "id": "VvqjX1KvE8Y-"
      },
      "execution_count": null,
      "outputs": []
    },
    {
      "cell_type": "code",
      "source": [
        "!pip install stop-words\n",
        "from stop_words import get_stop_words"
      ],
      "metadata": {
        "colab": {
          "base_uri": "https://localhost:8080/"
        },
        "id": "taEOs9snQ-I5",
        "outputId": "1ef22faa-bae9-4002-e206-b3e4c29c475c"
      },
      "execution_count": null,
      "outputs": [
        {
          "output_type": "stream",
          "name": "stdout",
          "text": [
            "Requirement already satisfied: stop-words in /usr/local/lib/python3.7/dist-packages (2018.7.23)\n"
          ]
        }
      ]
    },
    {
      "cell_type": "code",
      "source": [
        "for i in models:\n",
        "\n",
        "\n",
        "  model = SentenceTransformer(i)\n",
        "  path='/content/drive/MyDrive/task-c/task-C-cs/train'\n",
        "  start = timeit.default_timer()\n",
        "  l1=[]\n",
        "  compute_order = []\n",
        "  files=os.listdir(path)\n",
        "  for x in tqdm(files, position=0, leave=True):\n",
        "    path1=path+'/'+x+'/'\n",
        "    f=os.listdir(path1)\n",
        "    if len(f)==1:\n",
        "        continue\n",
        "    text1=open(path1+f[0],encoding=\"utf8\").read()\n",
        "    text2=open(path1+f[1],encoding=\"utf8\").read()\n",
        "    text=[text1,text2]\n",
        "    documents_df=pd.DataFrame(text,columns=['documents'])\n",
        "    stop_words_l=get_stop_words('czech')\n",
        "    documents_df['documents_cleaned']=documents_df.documents.apply(lambda x: \" \".join(re.sub(r'[^a-zA-Z]','',w).lower() for w in x.split() if re.sub(r'[^a-zA-Z]','',w).lower() not in stop_words_l) )\n",
        "\n",
        "    # Two lists of sentences\n",
        "    sentences1 = documents_df.documents_cleaned[0]\n",
        "    sentences2 = documents_df.documents_cleaned[1]\n",
        "\n",
        "    #Compute embedding for both lists\n",
        "    embeddings1 = model.encode(sentences1, convert_to_tensor=True)\n",
        "    embeddings2 = model.encode(sentences2, convert_to_tensor=True)\n",
        "\n",
        "    #Compute cosine-similarits\n",
        "    cosine_scores = util.pytorch_cos_sim(embeddings1, embeddings2)\n",
        "    cosine_scores = cosine_scores.cpu()\n",
        "    compute_order.append(int(re.sub(\"[^0-9]\", \"\", x)))\n",
        "    l1.append(np.array(cosine_scores[0][0]))\n",
        "  scores.append(l1)\n",
        "  order.append(compute_order)\n",
        "  stop = timeit.default_timer()\n",
        "  compute_times.append(stop-start)\n",
        "\n",
        "compute_times"
      ],
      "metadata": {
        "colab": {
          "base_uri": "https://localhost:8080/"
        },
        "id": "x59465aswvcr",
        "outputId": "68975674-d02a-4034-a893-04112e9cf95f"
      },
      "execution_count": null,
      "outputs": [
        {
          "output_type": "stream",
          "name": "stderr",
          "text": [
            "100%|██████████| 780/780 [05:14<00:00,  2.48it/s]\n",
            "100%|██████████| 780/780 [00:29<00:00, 26.77it/s]\n",
            "100%|██████████| 780/780 [00:57<00:00, 13.60it/s]\n",
            "100%|██████████| 780/780 [00:19<00:00, 40.22it/s]\n",
            "100%|██████████| 780/780 [00:29<00:00, 26.44it/s]\n",
            "100%|██████████| 780/780 [00:29<00:00, 26.83it/s]\n",
            "100%|██████████| 780/780 [00:19<00:00, 39.86it/s]\n",
            "100%|██████████| 780/780 [00:57<00:00, 13.60it/s]\n",
            "100%|██████████| 780/780 [00:19<00:00, 40.94it/s]\n",
            "100%|██████████| 780/780 [00:57<00:00, 13.57it/s]\n",
            "100%|██████████| 780/780 [00:57<00:00, 13.59it/s]\n",
            "100%|██████████| 780/780 [00:57<00:00, 13.57it/s]\n",
            "100%|██████████| 780/780 [00:19<00:00, 39.48it/s]\n",
            "100%|██████████| 780/780 [00:29<00:00, 26.26it/s]\n",
            "100%|██████████| 780/780 [00:29<00:00, 26.11it/s]\n",
            "100%|██████████| 780/780 [00:29<00:00, 26.58it/s]\n",
            "100%|██████████| 780/780 [00:29<00:00, 26.37it/s]\n"
          ]
        },
        {
          "output_type": "execute_result",
          "data": {
            "text/plain": [
              "[319.91277289500067,\n",
              " 29.159183904999736,\n",
              " 57.351678306000395,\n",
              " 19.411789750000025,\n",
              " 29.517221594000148,\n",
              " 29.090188870999555,\n",
              " 19.5865731089998,\n",
              " 57.35627500699957,\n",
              " 19.06662631400104,\n",
              " 57.480448658998284,\n",
              " 57.43127163200006,\n",
              " 57.50310601599995,\n",
              " 19.77431591399909,\n",
              " 29.715462729000137,\n",
              " 29.889233382000384,\n",
              " 29.35593353400145,\n",
              " 29.59047722499963]"
            ]
          },
          "metadata": {},
          "execution_count": 37
        }
      ]
    },
    {
      "cell_type": "code",
      "source": [
        "import pandas as pd\n",
        "df = pd.read_csv('/content/drive/MyDrive/task-c/CS_train_task_c.tsv', sep = '\\t')\n",
        "df.Directory = df.Directory.str.replace(\"[^0-9]\", \"\").astype(int)\n",
        "df = df.sort_values(by='Directory')\n",
        "df"
      ],
      "metadata": {
        "colab": {
          "base_uri": "https://localhost:8080/",
          "height": 540
        },
        "id": "-nOHmITrzr8c",
        "outputId": "e4efcc88-1ac3-4cd1-f3cd-eb2862221bb2"
      },
      "execution_count": null,
      "outputs": [
        {
          "output_type": "stream",
          "name": "stderr",
          "text": [
            "/usr/local/lib/python3.7/dist-packages/ipykernel_launcher.py:3: FutureWarning: The default value of regex will change from True to False in a future version.\n",
            "  This is separate from the ipykernel package so we can avoid doing imports until\n"
          ]
        },
        {
          "output_type": "execute_result",
          "data": {
            "text/plain": [
              "     Unnamed: 0  Directory                                             File 1  \\\n",
              "0             1          2  meeting_cs_train_008_minutes_ORIG.deidentified...   \n",
              "1             2          4  meeting_cs_train_003_minutes_GENER_annot18.dei...   \n",
              "2             3          6  meeting_cs_train_033_minutes_GENER_annot02.dei...   \n",
              "3             4          9  meeting_cs_train_020_minutes_ORIG.deidentified...   \n",
              "4             5         10  meeting_cs_train_025_minutes_ORIG.deidentified...   \n",
              "..          ...        ...                                                ...   \n",
              "775         776       1642  meeting_cs_train_013_minutes_ORIG.deidentified...   \n",
              "776         777       1645  meeting_cs_train_019_minutes_GENER_annot18.dei...   \n",
              "777         778       1646  meeting_cs_train_031_minutes_GENER_annot19.dei...   \n",
              "778         779       1647  meeting_cs_train_007_minutes_GENER_annot05.dei...   \n",
              "779         780       1648  meeting_cs_train_019_minutes_ORIG.deidentified...   \n",
              "\n",
              "                                                File 2  Label Task  \n",
              "0    meeting_cs_train_015_minutes_GENER_annot18.dei...  False    C  \n",
              "1    meeting_cs_train_013_minutes_GENER_annot05.dei...  False    C  \n",
              "2    meeting_cs_train_021_minutes_ORIG.deidentified...  False    C  \n",
              "3    meeting_cs_train_015_minutes_GENER_annot05.dei...  False    C  \n",
              "4    meeting_cs_train_001_minutes_GENER_annot18.dei...  False    C  \n",
              "..                                                 ...    ...  ...  \n",
              "775  meeting_cs_train_002_minutes_GENER_annot19.dei...  False    C  \n",
              "776  meeting_cs_train_027_minutes_GENER_annot19.dei...  False    C  \n",
              "777  meeting_cs_train_015_minutes_GENER_annot05.dei...  False    C  \n",
              "778  meeting_cs_train_025_minutes_ORIG.deidentified...  False    C  \n",
              "779  meeting_cs_train_008_minutes_GENER_annot05.dei...  False    C  \n",
              "\n",
              "[780 rows x 6 columns]"
            ],
            "text/html": [
              "\n",
              "  <div id=\"df-dfed18e5-43de-47f8-8fac-fa5c915c77f4\">\n",
              "    <div class=\"colab-df-container\">\n",
              "      <div>\n",
              "<style scoped>\n",
              "    .dataframe tbody tr th:only-of-type {\n",
              "        vertical-align: middle;\n",
              "    }\n",
              "\n",
              "    .dataframe tbody tr th {\n",
              "        vertical-align: top;\n",
              "    }\n",
              "\n",
              "    .dataframe thead th {\n",
              "        text-align: right;\n",
              "    }\n",
              "</style>\n",
              "<table border=\"1\" class=\"dataframe\">\n",
              "  <thead>\n",
              "    <tr style=\"text-align: right;\">\n",
              "      <th></th>\n",
              "      <th>Unnamed: 0</th>\n",
              "      <th>Directory</th>\n",
              "      <th>File 1</th>\n",
              "      <th>File 2</th>\n",
              "      <th>Label</th>\n",
              "      <th>Task</th>\n",
              "    </tr>\n",
              "  </thead>\n",
              "  <tbody>\n",
              "    <tr>\n",
              "      <th>0</th>\n",
              "      <td>1</td>\n",
              "      <td>2</td>\n",
              "      <td>meeting_cs_train_008_minutes_ORIG.deidentified...</td>\n",
              "      <td>meeting_cs_train_015_minutes_GENER_annot18.dei...</td>\n",
              "      <td>False</td>\n",
              "      <td>C</td>\n",
              "    </tr>\n",
              "    <tr>\n",
              "      <th>1</th>\n",
              "      <td>2</td>\n",
              "      <td>4</td>\n",
              "      <td>meeting_cs_train_003_minutes_GENER_annot18.dei...</td>\n",
              "      <td>meeting_cs_train_013_minutes_GENER_annot05.dei...</td>\n",
              "      <td>False</td>\n",
              "      <td>C</td>\n",
              "    </tr>\n",
              "    <tr>\n",
              "      <th>2</th>\n",
              "      <td>3</td>\n",
              "      <td>6</td>\n",
              "      <td>meeting_cs_train_033_minutes_GENER_annot02.dei...</td>\n",
              "      <td>meeting_cs_train_021_minutes_ORIG.deidentified...</td>\n",
              "      <td>False</td>\n",
              "      <td>C</td>\n",
              "    </tr>\n",
              "    <tr>\n",
              "      <th>3</th>\n",
              "      <td>4</td>\n",
              "      <td>9</td>\n",
              "      <td>meeting_cs_train_020_minutes_ORIG.deidentified...</td>\n",
              "      <td>meeting_cs_train_015_minutes_GENER_annot05.dei...</td>\n",
              "      <td>False</td>\n",
              "      <td>C</td>\n",
              "    </tr>\n",
              "    <tr>\n",
              "      <th>4</th>\n",
              "      <td>5</td>\n",
              "      <td>10</td>\n",
              "      <td>meeting_cs_train_025_minutes_ORIG.deidentified...</td>\n",
              "      <td>meeting_cs_train_001_minutes_GENER_annot18.dei...</td>\n",
              "      <td>False</td>\n",
              "      <td>C</td>\n",
              "    </tr>\n",
              "    <tr>\n",
              "      <th>...</th>\n",
              "      <td>...</td>\n",
              "      <td>...</td>\n",
              "      <td>...</td>\n",
              "      <td>...</td>\n",
              "      <td>...</td>\n",
              "      <td>...</td>\n",
              "    </tr>\n",
              "    <tr>\n",
              "      <th>775</th>\n",
              "      <td>776</td>\n",
              "      <td>1642</td>\n",
              "      <td>meeting_cs_train_013_minutes_ORIG.deidentified...</td>\n",
              "      <td>meeting_cs_train_002_minutes_GENER_annot19.dei...</td>\n",
              "      <td>False</td>\n",
              "      <td>C</td>\n",
              "    </tr>\n",
              "    <tr>\n",
              "      <th>776</th>\n",
              "      <td>777</td>\n",
              "      <td>1645</td>\n",
              "      <td>meeting_cs_train_019_minutes_GENER_annot18.dei...</td>\n",
              "      <td>meeting_cs_train_027_minutes_GENER_annot19.dei...</td>\n",
              "      <td>False</td>\n",
              "      <td>C</td>\n",
              "    </tr>\n",
              "    <tr>\n",
              "      <th>777</th>\n",
              "      <td>778</td>\n",
              "      <td>1646</td>\n",
              "      <td>meeting_cs_train_031_minutes_GENER_annot19.dei...</td>\n",
              "      <td>meeting_cs_train_015_minutes_GENER_annot05.dei...</td>\n",
              "      <td>False</td>\n",
              "      <td>C</td>\n",
              "    </tr>\n",
              "    <tr>\n",
              "      <th>778</th>\n",
              "      <td>779</td>\n",
              "      <td>1647</td>\n",
              "      <td>meeting_cs_train_007_minutes_GENER_annot05.dei...</td>\n",
              "      <td>meeting_cs_train_025_minutes_ORIG.deidentified...</td>\n",
              "      <td>False</td>\n",
              "      <td>C</td>\n",
              "    </tr>\n",
              "    <tr>\n",
              "      <th>779</th>\n",
              "      <td>780</td>\n",
              "      <td>1648</td>\n",
              "      <td>meeting_cs_train_019_minutes_ORIG.deidentified...</td>\n",
              "      <td>meeting_cs_train_008_minutes_GENER_annot05.dei...</td>\n",
              "      <td>False</td>\n",
              "      <td>C</td>\n",
              "    </tr>\n",
              "  </tbody>\n",
              "</table>\n",
              "<p>780 rows × 6 columns</p>\n",
              "</div>\n",
              "      <button class=\"colab-df-convert\" onclick=\"convertToInteractive('df-dfed18e5-43de-47f8-8fac-fa5c915c77f4')\"\n",
              "              title=\"Convert this dataframe to an interactive table.\"\n",
              "              style=\"display:none;\">\n",
              "        \n",
              "  <svg xmlns=\"http://www.w3.org/2000/svg\" height=\"24px\"viewBox=\"0 0 24 24\"\n",
              "       width=\"24px\">\n",
              "    <path d=\"M0 0h24v24H0V0z\" fill=\"none\"/>\n",
              "    <path d=\"M18.56 5.44l.94 2.06.94-2.06 2.06-.94-2.06-.94-.94-2.06-.94 2.06-2.06.94zm-11 1L8.5 8.5l.94-2.06 2.06-.94-2.06-.94L8.5 2.5l-.94 2.06-2.06.94zm10 10l.94 2.06.94-2.06 2.06-.94-2.06-.94-.94-2.06-.94 2.06-2.06.94z\"/><path d=\"M17.41 7.96l-1.37-1.37c-.4-.4-.92-.59-1.43-.59-.52 0-1.04.2-1.43.59L10.3 9.45l-7.72 7.72c-.78.78-.78 2.05 0 2.83L4 21.41c.39.39.9.59 1.41.59.51 0 1.02-.2 1.41-.59l7.78-7.78 2.81-2.81c.8-.78.8-2.07 0-2.86zM5.41 20L4 18.59l7.72-7.72 1.47 1.35L5.41 20z\"/>\n",
              "  </svg>\n",
              "      </button>\n",
              "      \n",
              "  <style>\n",
              "    .colab-df-container {\n",
              "      display:flex;\n",
              "      flex-wrap:wrap;\n",
              "      gap: 12px;\n",
              "    }\n",
              "\n",
              "    .colab-df-convert {\n",
              "      background-color: #E8F0FE;\n",
              "      border: none;\n",
              "      border-radius: 50%;\n",
              "      cursor: pointer;\n",
              "      display: none;\n",
              "      fill: #1967D2;\n",
              "      height: 32px;\n",
              "      padding: 0 0 0 0;\n",
              "      width: 32px;\n",
              "    }\n",
              "\n",
              "    .colab-df-convert:hover {\n",
              "      background-color: #E2EBFA;\n",
              "      box-shadow: 0px 1px 2px rgba(60, 64, 67, 0.3), 0px 1px 3px 1px rgba(60, 64, 67, 0.15);\n",
              "      fill: #174EA6;\n",
              "    }\n",
              "\n",
              "    [theme=dark] .colab-df-convert {\n",
              "      background-color: #3B4455;\n",
              "      fill: #D2E3FC;\n",
              "    }\n",
              "\n",
              "    [theme=dark] .colab-df-convert:hover {\n",
              "      background-color: #434B5C;\n",
              "      box-shadow: 0px 1px 3px 1px rgba(0, 0, 0, 0.15);\n",
              "      filter: drop-shadow(0px 1px 2px rgba(0, 0, 0, 0.3));\n",
              "      fill: #FFFFFF;\n",
              "    }\n",
              "  </style>\n",
              "\n",
              "      <script>\n",
              "        const buttonEl =\n",
              "          document.querySelector('#df-dfed18e5-43de-47f8-8fac-fa5c915c77f4 button.colab-df-convert');\n",
              "        buttonEl.style.display =\n",
              "          google.colab.kernel.accessAllowed ? 'block' : 'none';\n",
              "\n",
              "        async function convertToInteractive(key) {\n",
              "          const element = document.querySelector('#df-dfed18e5-43de-47f8-8fac-fa5c915c77f4');\n",
              "          const dataTable =\n",
              "            await google.colab.kernel.invokeFunction('convertToInteractive',\n",
              "                                                     [key], {});\n",
              "          if (!dataTable) return;\n",
              "\n",
              "          const docLinkHtml = 'Like what you see? Visit the ' +\n",
              "            '<a target=\"_blank\" href=https://colab.research.google.com/notebooks/data_table.ipynb>data table notebook</a>'\n",
              "            + ' to learn more about interactive tables.';\n",
              "          element.innerHTML = '';\n",
              "          dataTable['output_type'] = 'display_data';\n",
              "          await google.colab.output.renderOutput(dataTable, element);\n",
              "          const docLink = document.createElement('div');\n",
              "          docLink.innerHTML = docLinkHtml;\n",
              "          element.appendChild(docLink);\n",
              "        }\n",
              "      </script>\n",
              "    </div>\n",
              "  </div>\n",
              "  "
            ]
          },
          "metadata": {},
          "execution_count": 38
        }
      ]
    },
    {
      "cell_type": "code",
      "source": [
        "from sklearn.metrics import roc_auc_score\n",
        "roc = []\n",
        "i = 0\n",
        "for x in order:\n",
        "  df2 = pd.DataFrame({'File' : x, 'Score': scores[i]})\n",
        "  df2 = df2.sort_values(by='File')\n",
        "  temp = df[df.Directory.isin(df2.File)]\n",
        "  df2.loc[df2.Score>=0.75, 'Label']=True\n",
        "  df2.loc[df2.Score<0.75, 'Label']=False\n",
        "  roc.append(accuracy_score(temp.Label, df2.Label.astype(bool)))\n",
        "  i = i+1"
      ],
      "metadata": {
        "id": "etoZKTzv1JWM"
      },
      "execution_count": null,
      "outputs": []
    },
    {
      "cell_type": "code",
      "source": [
        "roc"
      ],
      "metadata": {
        "colab": {
          "base_uri": "https://localhost:8080/"
        },
        "id": "AioacMtu7YnG",
        "outputId": "dc49829d-e851-4357-df4b-f8c5b322c067"
      },
      "execution_count": null,
      "outputs": [
        {
          "output_type": "execute_result",
          "data": {
            "text/plain": [
              "[0.823076923076923,\n",
              " 0.3564102564102564,\n",
              " 0.8166666666666667,\n",
              " 0.4076923076923077,\n",
              " 0.33205128205128204,\n",
              " 0.6423076923076924,\n",
              " 0.8666666666666667,\n",
              " 0.19615384615384615,\n",
              " 0.28717948717948716,\n",
              " 0.2717948717948718,\n",
              " 0.09230769230769231,\n",
              " 0.30641025641025643,\n",
              " 0.19615384615384615,\n",
              " 0.22179487179487178,\n",
              " 0.05128205128205128,\n",
              " 0.2602564102564103,\n",
              " 0.2653846153846154]"
            ]
          },
          "metadata": {},
          "execution_count": 43
        }
      ]
    },
    {
      "cell_type": "code",
      "source": [
        "compute_times"
      ],
      "metadata": {
        "colab": {
          "base_uri": "https://localhost:8080/"
        },
        "id": "-n6Ew9gh971a",
        "outputId": "c32859e9-fee9-4bfa-90dc-86657855db91"
      },
      "execution_count": null,
      "outputs": [
        {
          "output_type": "execute_result",
          "data": {
            "text/plain": [
              "[319.91277289500067,\n",
              " 29.159183904999736,\n",
              " 57.351678306000395,\n",
              " 19.411789750000025,\n",
              " 29.517221594000148,\n",
              " 29.090188870999555,\n",
              " 19.5865731089998,\n",
              " 57.35627500699957,\n",
              " 19.06662631400104,\n",
              " 57.480448658998284,\n",
              " 57.43127163200006,\n",
              " 57.50310601599995,\n",
              " 19.77431591399909,\n",
              " 29.715462729000137,\n",
              " 29.889233382000384,\n",
              " 29.35593353400145,\n",
              " 29.59047722499963]"
            ]
          },
          "metadata": {},
          "execution_count": 41
        }
      ]
    },
    {
      "cell_type": "code",
      "source": [
        ""
      ],
      "metadata": {
        "id": "Ldw3HuS-fOQn"
      },
      "execution_count": null,
      "outputs": []
    }
  ]
}